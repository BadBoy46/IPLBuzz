{
 "cells": [
  {
   "cell_type": "code",
   "execution_count": 356,
   "metadata": {},
   "outputs": [],
   "source": [
    "import numpy as np # for Linear algebra\n",
    "import pandas as pd # for data manipulation/CSV I/O\n",
    "pd.options.mode.chained_assignment = None    # To avoid the SettingWithCopyWarning"
   ]
  },
  {
   "cell_type": "code",
   "execution_count": 357,
   "metadata": {},
   "outputs": [],
   "source": [
    "#Loading the dataset\n",
    "deliveries=pd.read_csv(\"dataset/deliveries.csv\")\n",
    "matches =pd.read_csv(\"dataset/matches.csv\")"
   ]
  },
  {
   "cell_type": "code",
   "execution_count": 358,
   "metadata": {},
   "outputs": [],
   "source": [
    "#deliveries.head(1)"
   ]
  },
  {
   "cell_type": "code",
   "execution_count": 359,
   "metadata": {},
   "outputs": [],
   "source": [
    "#matches.head()"
   ]
  },
  {
   "cell_type": "code",
   "execution_count": 360,
   "metadata": {},
   "outputs": [],
   "source": [
    "#deliveries.columns"
   ]
  },
  {
   "cell_type": "code",
   "execution_count": 361,
   "metadata": {},
   "outputs": [],
   "source": [
    "deliveries = deliveries[deliveries['wide_runs'] == 0]\n",
    "#deliveries = deliveries[deliveries['is_super_over'] == 0]\n",
    "#deliveries"
   ]
  },
  {
   "cell_type": "code",
   "execution_count": 362,
   "metadata": {},
   "outputs": [],
   "source": [
    "#Keeping Only the required Columns\n",
    "batsman = deliveries[deliveries['wide_runs'] == 0]\n",
    "batsman = deliveries[deliveries['is_super_over'] == 0]\n",
    "#batsman = batsman[batsman['noball_runs'] == 0]\n",
    "#column_heads = ['match_id','batsman','batsman_runs']\n",
    "column_heads = ['match_id','batsman','batsman_runs','ball']\n",
    "batsman = batsman[column_heads]\n",
    "#batsman = batsman[batsman['wide_runs'] == 0]\n",
    "recent_bat = batsman.copy()\n",
    "#batsman.head()"
   ]
  },
  {
   "cell_type": "code",
   "execution_count": 363,
   "metadata": {},
   "outputs": [],
   "source": [
    "batsman[\"Fours\"] = np.where(batsman[\"batsman_runs\"] == 4, 1, 0)\n",
    "batsman[\"Sixes\"] = np.where(batsman[\"batsman_runs\"] == 6, 1, 0)\n",
    "balls = batsman.copy()\n",
    "balls = balls.groupby(['match_id','batsman']).agg({'ball':'count','batsman_runs':'sum','Fours':'sum',\n",
    "                                                  'Sixes':'sum'}).reset_index()\n",
    "balls = balls.groupby(['batsman']).agg({'ball':'sum', 'batsman_runs':'sum','Fours':'sum',\n",
    "                                       'Sixes':'sum'}).reset_index()\n",
    "#balls[balls['batsman'] == 'Yuvraj Singh']\n",
    "#balls.head(17)"
   ]
  },
  {
   "cell_type": "code",
   "execution_count": 364,
   "metadata": {},
   "outputs": [],
   "source": [
    "batsmen_info = batsman.groupby(['batsman']).agg(\n",
    "    {'match_id': lambda x: x.nunique(), 'batsman_runs': 'sum', 'Fours': 'sum', 'Sixes': 'sum'}).reset_index()\n",
    "\n",
    "batter = batsman.groupby(['match_id','batsman'])\n",
    "#batter.head()"
   ]
  },
  {
   "cell_type": "code",
   "execution_count": 365,
   "metadata": {},
   "outputs": [],
   "source": [
    "#Calculate HS 30s 50s \n",
    "#temp = deliveries.groupby(['match_id','batsman'])\n",
    "\n",
    "temp = batsman.groupby(['match_id','batsman'])\n",
    "hs = temp.sum().reset_index().groupby('batsman').agg({'batsman_runs': 'max'}).reset_index()\n",
    "thirty = temp.sum().reset_index().groupby(['match_id', 'batsman']).agg(\n",
    "    {'batsman_runs': lambda x: 1 if (x > 29).any() else 0}).reset_index().groupby('batsman').agg(\n",
    "    {'batsman_runs': 'sum'}).reset_index()\n",
    "\n",
    "fifty = temp.sum().reset_index().groupby(['match_id', 'batsman']).agg(\n",
    "    {'batsman_runs': lambda x: 1 if (x > 49).any() else 0}).reset_index().groupby('batsman').agg(\n",
    "    {'batsman_runs': 'sum'}).reset_index()\n",
    "\n",
    "tmp = deliveries.groupby(['match_id','batsman'])\n",
    "balls = tmp.count().reset_index().groupby('batsman').agg({'batsman_runs': 'sum'}).reset_index()\n",
    "#balls = temp.count().reset_index().groupby('batsman').agg({'ball': 'count'}).reset_index()\n",
    "\n",
    "thirty = thirty.rename(columns={'batsman_runs': \"30s\"})\n",
    "hs = hs.rename(columns={'batsman_runs': \"HS\"})\n",
    "balls = balls.rename(columns={'batsman_runs': \"Balls_faced\"})\n",
    "fifty = fifty.rename(columns={'batsman_runs' : '50s' })\n",
    "\n",
    "batsmen_info = pd.merge(batsmen_info, hs, on=['batsman'])\n",
    "batsmen_info = pd.merge(batsmen_info, thirty, on=['batsman'])\n",
    "batsmen_info = pd.merge(batsmen_info, balls, on=['batsman'])\n",
    "batsmen_info = pd.merge(batsmen_info, fifty, on=['batsman'])\n"
   ]
  },
  {
   "cell_type": "code",
   "execution_count": 366,
   "metadata": {
    "scrolled": true
   },
   "outputs": [],
   "source": [
    "#Calculating Strike Rate SR\n",
    "batsmen_info['SR'] = np.around((batsmen_info['batsman_runs'] / batsmen_info['Balls_faced']) * 100, 2)\n",
    "#print(batsmen_info.head())"
   ]
  },
  {
   "cell_type": "code",
   "execution_count": 367,
   "metadata": {
    "scrolled": true
   },
   "outputs": [],
   "source": [
    "#Arrange it in a Sequence\n",
    "batsmen_info = batsmen_info.rename(columns={'batsman': 'Batsman', 'batsman_runs': 'Runs', 'match_id': 'Matches', \n",
    "                                            'Balls_faced' : 'Balls'})\n"
   ]
  },
  {
   "cell_type": "code",
   "execution_count": 368,
   "metadata": {
    "scrolled": true
   },
   "outputs": [],
   "source": [
    "#batsmen_info.sort_values(by='Sixes',ascending = False).reset_index(drop='T')[:10]"
   ]
  },
  {
   "cell_type": "code",
   "execution_count": 369,
   "metadata": {},
   "outputs": [],
   "source": [
    "#Calculating Not Out and Average\n",
    "dele = deliveries[deliveries['wide_runs'] == 0]\n",
    "batsmen = dele.groupby([\"match_id\", \"inning\", \"batting_team\", \"batsman\"])\n",
    "batsmen = batsmen[\"batsman_runs\"].sum().reset_index()\n",
    "#batsmen = batsmen['ball'].count()\n",
    "not_out = deliveries[pd.notnull(deliveries['player_dismissed'])]\n",
    "not_out = not_out[['match_id','inning','player_dismissed','bowler','dismissal_kind','fielder']]\n",
    "not_out.rename(columns={'player_dismissed':'batsman'}, inplace = True)\n",
    "batsmen=batsmen.merge(not_out,left_on=['match_id','inning','batsman'],right_on=['match_id','inning','batsman'], how= \"left\")\n",
    "batsmen['dismissal_kind']=batsmen.dismissal_kind.fillna('not_out')\n",
    "batsmen['fielder']=batsmen.fielder.fillna('-')\n",
    "\n",
    "#print(batsmen.head())\n",
    "\n",
    "dismissal_group=batsmen[['dismissal_kind','batsman']]\n",
    "dismissal_group=dismissal_group.groupby(['batsman','dismissal_kind']).size().reset_index()\n",
    "dismissal_group.rename(columns={'0':'No_of_times', 'batsman':'Batsman'},inplace=True)\n",
    "not_outs=dismissal_group[dismissal_group['dismissal_kind']=='not_out']\n",
    "not_outs=not_outs.drop(['dismissal_kind'],1)\n",
    "not_outs.rename(columns={0:'NO'},inplace=True)\n",
    "#print (not_outs.head())\n",
    "\n",
    "batsmen_info = pd.merge(batsmen_info, not_outs, on=['Batsman'], how='left')\n",
    "batsmen_info = batsmen_info.fillna(0)\n",
    "#batsmen_info = pd.merge(batsmen_info, not_outs, on=['Batsman'])\n",
    "#print(batsmen_info.head())"
   ]
  },
  {
   "cell_type": "code",
   "execution_count": 370,
   "metadata": {},
   "outputs": [],
   "source": [
    "#Calculating Batsmen Average\n",
    "#batsmen_info['Average'] = batsmen_info['Runs'] / (batsmen_info['Matches'] - batsmen_info['NO'])\n",
    "batsmen_info['Average'] = np.where((batsmen_info['Runs'] / (batsmen_info['Matches'] - batsmen_info['NO'])) == np.inf,\n",
    "                                   batsmen_info['Runs'] , \n",
    "                                   batsmen_info['Runs'] / (batsmen_info['Matches'] - batsmen_info['NO']))\n",
    "batsmen_info = batsmen_info.replace([np.inf, -np.inf],np.nan)\n",
    "#print(batsmen_info.head())\n",
    "#batsmen_info.sort_values(by='Batsman', ascending=False).reset_index(drop='T')[:10]"
   ]
  },
  {
   "cell_type": "code",
   "execution_count": 371,
   "metadata": {},
   "outputs": [],
   "source": [
    "#Calculating the recent Form of Players\n",
    "req_coulms = ['batsman','batsman_runs','dismissal_kind']\n",
    "recent_form = batsmen[req_columns]\n",
    "recent_form['dismissal'] = np.where(batsmen['dismissal_kind'] == 'not_out' , 0, 1)\n",
    "recent_form = recent_form.groupby('batsman').tail(4)\n",
    "recent_form.drop('dismissal_kind',axis=1,inplace=True)\n",
    "recent_form = recent_form.groupby(['batsman']).agg({'batsman_runs' : 'sum', 'dismissal' : 'sum'}).reset_index()\n",
    "recent_form.rename(columns={'batsman':'Batsman','batsman_runs':'Recent_runs'}, inplace=True)\n",
    "recent_form['Form_Average'] = np.where((recent_form['Recent_runs'] / recent_form['dismissal']) == np.inf,\n",
    "                                       recent_form['Recent_runs'],\n",
    "                                       recent_form['Recent_runs'] / recent_form['dismissal'])\n",
    "recent_form.drop('dismissal',axis=1,inplace=True)\n",
    "batsmen_info = pd.merge(batsmen_info, recent_form, on=['Batsman'])\n",
    "#recent_form.head(5)"
   ]
  },
  {
   "cell_type": "code",
   "execution_count": 377,
   "metadata": {},
   "outputs": [
    {
     "data": {
      "text/html": [
       "<div>\n",
       "<style scoped>\n",
       "    .dataframe tbody tr th:only-of-type {\n",
       "        vertical-align: middle;\n",
       "    }\n",
       "\n",
       "    .dataframe tbody tr th {\n",
       "        vertical-align: top;\n",
       "    }\n",
       "\n",
       "    .dataframe thead th {\n",
       "        text-align: right;\n",
       "    }\n",
       "</style>\n",
       "<table border=\"1\" class=\"dataframe\">\n",
       "  <thead>\n",
       "    <tr style=\"text-align: right;\">\n",
       "      <th></th>\n",
       "      <th>index</th>\n",
       "      <th>Batsman</th>\n",
       "      <th>Matches</th>\n",
       "      <th>Runs</th>\n",
       "      <th>Average</th>\n",
       "      <th>NO</th>\n",
       "      <th>Balls</th>\n",
       "      <th>SR</th>\n",
       "      <th>30s</th>\n",
       "      <th>50s</th>\n",
       "      <th>HS</th>\n",
       "      <th>Sixes</th>\n",
       "      <th>Fours</th>\n",
       "      <th>Recent_runs</th>\n",
       "      <th>Form_Average</th>\n",
       "    </tr>\n",
       "  </thead>\n",
       "  <tbody>\n",
       "    <tr>\n",
       "      <th>347</th>\n",
       "      <td>347</td>\n",
       "      <td>RG Sharma</td>\n",
       "      <td>167</td>\n",
       "      <td>4496</td>\n",
       "      <td>32.345324</td>\n",
       "      <td>28.0</td>\n",
       "      <td>3429</td>\n",
       "      <td>131.12</td>\n",
       "      <td>62</td>\n",
       "      <td>35</td>\n",
       "      <td>109</td>\n",
       "      <td>185</td>\n",
       "      <td>379</td>\n",
       "      <td>56</td>\n",
       "      <td>14.0</td>\n",
       "    </tr>\n",
       "  </tbody>\n",
       "</table>\n",
       "</div>"
      ],
      "text/plain": [
       "     index    Batsman  Matches  Runs    Average    NO  Balls      SR  30s  \\\n",
       "347    347  RG Sharma      167  4496  32.345324  28.0   3429  131.12   62   \n",
       "\n",
       "     50s   HS  Sixes  Fours  Recent_runs  Form_Average  \n",
       "347   35  109    185    379           56          14.0  "
      ]
     },
     "execution_count": 377,
     "metadata": {},
     "output_type": "execute_result"
    }
   ],
   "source": [
    "batsmen_info[batsmen_info['Batsman'] == 'RG Sharma']"
   ]
  },
  {
   "cell_type": "code",
   "execution_count": 373,
   "metadata": {},
   "outputs": [],
   "source": [
    "sequence = ['Batsman', 'Matches', 'Runs','Average','NO', 'Balls' , 'SR', '30s', '50s' , 'HS', 'Sixes', 'Fours', 'Recent_runs',\n",
    "           'Form_Average']\n",
    "batsmen_info = batsmen_info[sequence].reset_index()\n",
    "#print(batsmen_info.head())"
   ]
  },
  {
   "cell_type": "code",
   "execution_count": 374,
   "metadata": {},
   "outputs": [],
   "source": [
    "export_csv = batsmen_info.to_csv ('dataset/batsmen.csv', index = None, header=True) #Don't forget to add '.csv' at the end of the path"
   ]
  },
  {
   "cell_type": "code",
   "execution_count": 375,
   "metadata": {},
   "outputs": [
    {
     "data": {
      "text/html": [
       "<div>\n",
       "<style scoped>\n",
       "    .dataframe tbody tr th:only-of-type {\n",
       "        vertical-align: middle;\n",
       "    }\n",
       "\n",
       "    .dataframe tbody tr th {\n",
       "        vertical-align: top;\n",
       "    }\n",
       "\n",
       "    .dataframe thead th {\n",
       "        text-align: right;\n",
       "    }\n",
       "</style>\n",
       "<table border=\"1\" class=\"dataframe\">\n",
       "  <thead>\n",
       "    <tr style=\"text-align: right;\">\n",
       "      <th></th>\n",
       "      <th>index</th>\n",
       "      <th>Batsman</th>\n",
       "      <th>Matches</th>\n",
       "      <th>Runs</th>\n",
       "      <th>Average</th>\n",
       "      <th>NO</th>\n",
       "      <th>Balls</th>\n",
       "      <th>SR</th>\n",
       "      <th>30s</th>\n",
       "      <th>50s</th>\n",
       "      <th>HS</th>\n",
       "      <th>Sixes</th>\n",
       "      <th>Fours</th>\n",
       "      <th>Recent_runs</th>\n",
       "      <th>Form_Average</th>\n",
       "    </tr>\n",
       "  </thead>\n",
       "  <tbody>\n",
       "    <tr>\n",
       "      <th>458</th>\n",
       "      <td>458</td>\n",
       "      <td>V Kohli</td>\n",
       "      <td>155</td>\n",
       "      <td>4953</td>\n",
       "      <td>38.695312</td>\n",
       "      <td>27.0</td>\n",
       "      <td>3786</td>\n",
       "      <td>130.82</td>\n",
       "      <td>72</td>\n",
       "      <td>39</td>\n",
       "      <td>113</td>\n",
       "      <td>178</td>\n",
       "      <td>435</td>\n",
       "      <td>136</td>\n",
       "      <td>45.333333</td>\n",
       "    </tr>\n",
       "  </tbody>\n",
       "</table>\n",
       "</div>"
      ],
      "text/plain": [
       "     index  Batsman  Matches  Runs    Average    NO  Balls      SR  30s  50s  \\\n",
       "458    458  V Kohli      155  4953  38.695312  27.0   3786  130.82   72   39   \n",
       "\n",
       "      HS  Sixes  Fours  Recent_runs  Form_Average  \n",
       "458  113    178    435          136     45.333333  "
      ]
     },
     "execution_count": 375,
     "metadata": {},
     "output_type": "execute_result"
    }
   ],
   "source": [
    "batsmen_info[batsmen_info['Batsman'] == 'V Kohli']"
   ]
  },
  {
   "cell_type": "code",
   "execution_count": null,
   "metadata": {},
   "outputs": [],
   "source": []
  }
 ],
 "metadata": {
  "kernelspec": {
   "display_name": "Python 3",
   "language": "python",
   "name": "python3"
  },
  "language_info": {
   "codemirror_mode": {
    "name": "ipython",
    "version": 3
   },
   "file_extension": ".py",
   "mimetype": "text/x-python",
   "name": "python",
   "nbconvert_exporter": "python",
   "pygments_lexer": "ipython3",
   "version": "3.6.1"
  }
 },
 "nbformat": 4,
 "nbformat_minor": 2
}
