{
 "cells": [
  {
   "cell_type": "code",
   "execution_count": 1,
   "metadata": {},
   "outputs": [],
   "source": [
    "import numpy as np # linear algebra\n",
    "import pandas as pd # data processing, CSV file I/O (e.g. pd.read_csv)\n",
    "import matplotlib.pyplot as plt\n",
    "from matplotlib import style\n",
    "style.use('fivethirtyeight')"
   ]
  },
  {
   "cell_type": "code",
   "execution_count": 2,
   "metadata": {},
   "outputs": [
    {
     "name": "stdout",
     "output_type": "stream",
     "text": [
      "['id' 'season' 'city' 'date' 'team1' 'team2' 'toss_winner' 'toss_decision'\n",
      " 'result' 'dl_applied' 'winner' 'win_by_runs' 'win_by_wickets'\n",
      " 'player_of_match' 'venue' 'umpire1' 'umpire2' 'umpire3']\n",
      "\n",
      "\n",
      "\n",
      "['match_id' 'inning' 'batting_team' 'bowling_team' 'over' 'ball' 'batsman'\n",
      " 'non_striker' 'bowler' 'is_super_over' 'wide_runs' 'bye_runs'\n",
      " 'legbye_runs' 'noball_runs' 'penalty_runs' 'batsman_runs' 'extra_runs'\n",
      " 'total_runs' 'player_dismissed' 'dismissal_kind' 'fielder']\n"
     ]
    }
   ],
   "source": [
    "matches=pd.read_csv('dataset/matches.csv')\n",
    "deliveries=pd.read_csv('dataset/deliveries.csv')\n",
    "print(matches.columns.values)\n",
    "print(\"\\n\\n\")\n",
    "print(deliveries.columns.values)"
   ]
  },
  {
   "cell_type": "code",
   "execution_count": 3,
   "metadata": {},
   "outputs": [
    {
     "name": "stdout",
     "output_type": "stream",
     "text": [
      "    season  id\n",
      "0     2008  58\n",
      "1     2009  57\n",
      "2     2010  60\n",
      "3     2011  73\n",
      "4     2012  74\n",
      "5     2013  76\n",
      "6     2014  60\n",
      "7     2015  59\n",
      "8     2016  60\n",
      "9     2017  59\n",
      "10    2018  60\n"
     ]
    }
   ],
   "source": [
    "#Number of matches held in each season\n",
    "matches_by_season = matches.groupby(['season']).count().reset_index()\n",
    "matches_by_season = matches_by_season[['season','id']]\n",
    "print(matches_by_season)"
   ]
  },
  {
   "cell_type": "code",
   "execution_count": 4,
   "metadata": {},
   "outputs": [
    {
     "name": "stdout",
     "output_type": "stream",
     "text": [
      "['A Nanda Kishore' 'A.D Deshmukh' 'Anil Chaudhary' 'Anil Dandekar'\n",
      " 'Bruce Oxenford' 'C Shamshuddin' 'Chris Gaffaney' 'K Ananthapadmanabhan'\n",
      " 'Kumar Dharmasena' 'Marais Erasmus' 'Nigel Llong' 'Nitin Menon'\n",
      " 'O Nandan' 'Rod Tucker' 'S Ravi' 'Vineet Kulkarni'\n",
      " 'Virender Kumar Sharma' 'Yeshwant Barde']\n"
     ]
    }
   ],
   "source": [
    "umpires = matches[matches['season']==2018]\n",
    "umpires1 = umpires['umpire1'].unique()\n",
    "umpires2 = umpires['umpire2'].unique()\n",
    "umpire = np.append(umpires1,umpires2)\n",
    "umpirelist = np.unique(umpire)\n",
    "print(umpirelist)"
   ]
  },
  {
   "cell_type": "code",
   "execution_count": 5,
   "metadata": {},
   "outputs": [
    {
     "name": "stdout",
     "output_type": "stream",
     "text": [
      "          batsman  match_id  inning  over  ball  is_super_over  wide_runs  \\\n",
      "0  A Ashish Reddy     90024     277  3312   720              0          3   \n",
      "1      A Chandila      2815       7   132    23              0          0   \n",
      "2        A Chopra      7602      78   467   273              0          4   \n",
      "3     A Choudhary       614      28   371    71              0          0   \n",
      "4     A Dananjaya     39510       5    97    22              0          0   \n",
      "\n",
      "   bye_runs  legbye_runs  noball_runs  penalty_runs  batsman_runs  extra_runs  \\\n",
      "0         5            0            0             0           280           8   \n",
      "1         0            0            0             0             4           0   \n",
      "2         0            1            0             0            53           5   \n",
      "3         0            0            0             0            25           0   \n",
      "4         0            0            0             0             4           0   \n",
      "\n",
      "   total_runs  \n",
      "0         288  \n",
      "1           4  \n",
      "2          58  \n",
      "3          25  \n",
      "4           4  \n"
     ]
    }
   ],
   "source": [
    "total_runs = deliveries.groupby(['batsman']).sum().reset_index()\n",
    "print(total_runs.head())"
   ]
  },
  {
   "cell_type": "code",
   "execution_count": 26,
   "metadata": {},
   "outputs": [
    {
     "ename": "AttributeError",
     "evalue": "'SeriesGroupBy' object has no attribute 'info'",
     "output_type": "error",
     "traceback": [
      "\u001b[1;31m---------------------------------------------------------------------------\u001b[0m",
      "\u001b[1;31mAttributeError\u001b[0m                            Traceback (most recent call last)",
      "\u001b[1;32m<ipython-input-26-71774daa7833>\u001b[0m in \u001b[0;36m<module>\u001b[1;34m()\u001b[0m\n\u001b[0;32m      5\u001b[0m \u001b[0mkohli\u001b[0m \u001b[1;33m=\u001b[0m \u001b[0mbatsmen\u001b[0m\u001b[1;33m[\u001b[0m\u001b[0mbatsmen\u001b[0m\u001b[1;33m[\u001b[0m\u001b[1;34m'batsman'\u001b[0m\u001b[1;33m]\u001b[0m\u001b[1;33m==\u001b[0m\u001b[1;34m'SK Raina'\u001b[0m\u001b[1;33m]\u001b[0m\u001b[1;33m.\u001b[0m\u001b[0mreset_index\u001b[0m\u001b[1;33m(\u001b[0m\u001b[1;33m)\u001b[0m\u001b[1;33m\u001b[0m\u001b[0m\n\u001b[0;32m      6\u001b[0m \u001b[0mraina\u001b[0m \u001b[1;33m=\u001b[0m \u001b[0mkohli\u001b[0m\u001b[1;33m.\u001b[0m\u001b[0mgroupby\u001b[0m\u001b[1;33m(\u001b[0m\u001b[1;33m[\u001b[0m\u001b[1;34m'batsman_runs'\u001b[0m\u001b[1;33m]\u001b[0m\u001b[1;33m)\u001b[0m\u001b[1;33m[\u001b[0m\u001b[1;34m'batsman_runs'\u001b[0m\u001b[1;33m]\u001b[0m\u001b[1;33m\u001b[0m\u001b[0m\n\u001b[1;32m----> 7\u001b[1;33m \u001b[0mprint\u001b[0m\u001b[1;33m(\u001b[0m\u001b[0mraina\u001b[0m\u001b[1;33m.\u001b[0m\u001b[0minfo\u001b[0m\u001b[1;33m(\u001b[0m\u001b[1;33m)\u001b[0m\u001b[1;33m)\u001b[0m\u001b[1;33m\u001b[0m\u001b[0m\n\u001b[0m",
      "\u001b[1;32mc:\\users\\nirma\\appdata\\local\\programs\\python\\python36-32\\lib\\site-packages\\pandas\\core\\groupby.py\u001b[0m in \u001b[0;36m__getattr__\u001b[1;34m(self, attr)\u001b[0m\n\u001b[0;32m    674\u001b[0m \u001b[1;33m\u001b[0m\u001b[0m\n\u001b[0;32m    675\u001b[0m         raise AttributeError(\"%r object has no attribute %r\" %\n\u001b[1;32m--> 676\u001b[1;33m                              (type(self).__name__, attr))\n\u001b[0m\u001b[0;32m    677\u001b[0m \u001b[1;33m\u001b[0m\u001b[0m\n\u001b[0;32m    678\u001b[0m     \u001b[0mplot\u001b[0m \u001b[1;33m=\u001b[0m \u001b[0mproperty\u001b[0m\u001b[1;33m(\u001b[0m\u001b[0mGroupByPlot\u001b[0m\u001b[1;33m)\u001b[0m\u001b[1;33m\u001b[0m\u001b[0m\n",
      "\u001b[1;31mAttributeError\u001b[0m: 'SeriesGroupBy' object has no attribute 'info'"
     ]
    }
   ],
   "source": [
    "batsmen = deliveries[deliveries[\"match_id\"]<700]\n",
    "batsmen = batsmen.groupby(['match_id','inning','batsman'])\n",
    "batsmen = batsmen['batsman_runs'].sum().reset_index()\n",
    "\n",
    "kohli = batsmen[batsmen['batsman']=='SK Raina'].reset_index()\n",
    "raina = kohli.groupby(['batsman_runs'])['batsman_runs']"
   ]
  }
 ],
 "metadata": {
  "kernelspec": {
   "display_name": "Python 3",
   "language": "python",
   "name": "python3"
  },
  "language_info": {
   "codemirror_mode": {
    "name": "ipython",
    "version": 3
   },
   "file_extension": ".py",
   "mimetype": "text/x-python",
   "name": "python",
   "nbconvert_exporter": "python",
   "pygments_lexer": "ipython3",
   "version": "3.6.1"
  }
 },
 "nbformat": 4,
 "nbformat_minor": 2
}
