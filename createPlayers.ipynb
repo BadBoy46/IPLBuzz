{
 "cells": [
  {
   "cell_type": "code",
   "execution_count": 1,
   "metadata": {},
   "outputs": [],
   "source": [
    "import numpy as np # linear algebra\n",
    "import pandas as pd # data processing, CSV file I/O (e.g. pd.read_csv)\n",
    "import matplotlib.pyplot as plt\n",
    "from matplotlib import style\n",
    "style.use('fivethirtyeight')"
   ]
  },
  {
   "cell_type": "code",
   "execution_count": 2,
   "metadata": {},
   "outputs": [
    {
     "name": "stdout",
     "output_type": "stream",
     "text": [
      "['id' 'season' 'city' 'date' 'team1' 'team2' 'toss_winner' 'toss_decision'\n",
      " 'result' 'dl_applied' 'winner' 'win_by_runs' 'win_by_wickets'\n",
      " 'player_of_match' 'venue' 'umpire1' 'umpire2' 'umpire3']\n",
      "\n",
      "\n",
      "\n",
      "['match_id' 'inning' 'batting_team' 'bowling_team' 'over' 'ball' 'batsman'\n",
      " 'non_striker' 'bowler' 'is_super_over' 'wide_runs' 'bye_runs'\n",
      " 'legbye_runs' 'noball_runs' 'penalty_runs' 'batsman_runs' 'extra_runs'\n",
      " 'total_runs' 'player_dismissed' 'dismissal_kind' 'fielder']\n"
     ]
    }
   ],
   "source": [
    "matches=pd.read_csv('dataset/matches.csv')\n",
    "deliveries=pd.read_csv('dataset/deliveries.csv')\n",
    "print(matches.columns.values)\n",
    "print(\"\\n\\n\")\n",
    "print(deliveries.columns.values)"
   ]
  },
  {
   "cell_type": "code",
   "execution_count": 49,
   "metadata": {},
   "outputs": [
    {
     "name": "stdout",
     "output_type": "stream",
     "text": [
      "    season  id\n",
      "0     2008  58\n",
      "1     2009  57\n",
      "2     2010  60\n",
      "3     2011  73\n",
      "4     2012  74\n",
      "5     2013  76\n",
      "6     2014  60\n",
      "7     2015  59\n",
      "8     2016  60\n",
      "9     2017  59\n",
      "10    2018  60\n"
     ]
    }
   ],
   "source": [
    "#Number of matches held in each season\n",
    "matches_by_season = matches.groupby(['season']).count().reset_index()\n",
    "matches_by_season = matches_by_season[['season','id']]\n",
    "print(matches_by_season)"
   ]
  }
 ],
 "metadata": {
  "kernelspec": {
   "display_name": "Python 3",
   "language": "python",
   "name": "python3"
  },
  "language_info": {
   "codemirror_mode": {
    "name": "ipython",
    "version": 3
   },
   "file_extension": ".py",
   "mimetype": "text/x-python",
   "name": "python",
   "nbconvert_exporter": "python",
   "pygments_lexer": "ipython3",
   "version": "3.6.1"
  }
 },
 "nbformat": 4,
 "nbformat_minor": 2
}
