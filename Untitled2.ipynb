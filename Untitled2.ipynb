{
 "cells": [
  {
   "cell_type": "code",
   "execution_count": 47,
   "metadata": {},
   "outputs": [],
   "source": [
    "import numpy as np # linear algebra\n",
    "import pandas as pd # data processing, CSV file I/O (e.g. pd.read_csv)\n",
    "pd.options.mode.chained_assignment = None    # To avoid the SettingWithCopyWarning\n",
    "style.use('fivethirtyeight')"
   ]
  },
  {
   "cell_type": "code",
   "execution_count": 48,
   "metadata": {},
   "outputs": [],
   "source": [
    "matches=pd.read_csv('dataset/matches.csv')\n",
    "deliveries=pd.read_csv('dataset/deliveries.csv')"
   ]
  },
  {
   "cell_type": "code",
   "execution_count": 49,
   "metadata": {},
   "outputs": [
    {
     "name": "stdout",
     "output_type": "stream",
     "text": [
      "   match_id  inning                 batting_team        batsman  batsman_runs\n",
      "0         1       1          Sunrisers Hyderabad    BCJ Cutting            16\n",
      "1         1       1          Sunrisers Hyderabad      DA Warner            14\n",
      "2         1       1          Sunrisers Hyderabad       DJ Hooda            16\n",
      "3         1       1          Sunrisers Hyderabad   MC Henriques            52\n",
      "4         1       1          Sunrisers Hyderabad       S Dhawan            40\n",
      "5         1       1          Sunrisers Hyderabad   Yuvraj Singh            62\n",
      "6         1       2  Royal Challengers Bangalore    A Choudhary             6\n",
      "7         1       2  Royal Challengers Bangalore       CH Gayle            32\n",
      "8         1       2  Royal Challengers Bangalore      KM Jadhav            31\n",
      "9         1       2  Royal Challengers Bangalore  Mandeep Singh            24\n"
     ]
    }
   ],
   "source": [
    "batsmen = deliveries.groupby(['match_id','inning','batting_team','batsman'])\n",
    "batsman = batsmen['batsman_runs'].sum().reset_index()\n",
    "print(batsman.head(10))"
   ]
  },
  {
   "cell_type": "code",
   "execution_count": 50,
   "metadata": {},
   "outputs": [
    {
     "name": "stdout",
     "output_type": "stream",
     "text": [
      "    match_id  inning                 batting_team        batsman  runs  \\\n",
      "0          1       1          Sunrisers Hyderabad    BCJ Cutting    16   \n",
      "1          1       1          Sunrisers Hyderabad      DA Warner    14   \n",
      "2          1       1          Sunrisers Hyderabad       DJ Hooda    16   \n",
      "3          1       1          Sunrisers Hyderabad   MC Henriques    52   \n",
      "4          1       1          Sunrisers Hyderabad       S Dhawan    40   \n",
      "5          1       1          Sunrisers Hyderabad   Yuvraj Singh    62   \n",
      "6          1       2  Royal Challengers Bangalore    A Choudhary     6   \n",
      "7          1       2  Royal Challengers Bangalore       CH Gayle    32   \n",
      "8          1       2  Royal Challengers Bangalore      KM Jadhav    31   \n",
      "9          1       2  Royal Challengers Bangalore  Mandeep Singh    24   \n",
      "10         1       2  Royal Challengers Bangalore      S Aravind     0   \n",
      "11         1       2  Royal Challengers Bangalore      SR Watson    22   \n",
      "12         1       2  Royal Challengers Bangalore      STR Binny    11   \n",
      "13         1       2  Royal Challengers Bangalore    Sachin Baby     1   \n",
      "14         1       2  Royal Challengers Bangalore        TM Head    30   \n",
      "\n",
      "          bowler dismissal_kind        fielder  \n",
      "0            NaN        not_out              -  \n",
      "1    A Choudhary         caught  Mandeep Singh  \n",
      "2            NaN        not_out              -  \n",
      "3      YS Chahal         caught    Sachin Baby  \n",
      "4      STR Binny         caught    Sachin Baby  \n",
      "5       TS Mills         bowled              -  \n",
      "6            NaN        not_out              -  \n",
      "7       DJ Hooda         caught      DA Warner  \n",
      "8   MC Henriques        run out    BCJ Cutting  \n",
      "9    Rashid Khan         bowled              -  \n",
      "10       A Nehra         bowled              -  \n",
      "11       A Nehra         caught   MC Henriques  \n",
      "12       B Kumar         caught   Yuvraj Singh  \n",
      "13  Bipul Sharma         caught   MC Henriques  \n",
      "14   Rashid Khan         caught   Yuvraj Singh  \n"
     ]
    }
   ],
   "source": [
    "dismissals = deliveries[pd.notnull(deliveries['player_dismissed'])]\n",
    "dismissals = dismissals[['match_id','inning','player_dismissed','bowler','dismissal_kind','fielder']]\n",
    "dismissals.rename(columns={'player_dismissed':'batsman'},inplace=True)\n",
    "batsmen=batsman.merge(dismissals,left_on=['match_id','inning','batsman'],right_on=['match_id','inning','batsman'], how= \"left\")\n",
    "\n",
    "batsmen['dismissal_kind']=batsmen.dismissal_kind.fillna('not_out')\n",
    "\n",
    "batsmen['fielder']=batsmen.fielder.fillna('-')\n",
    "batsmen.rename(columns={'batsman_runs':'runs'},inplace=True)\n",
    "print (batsmen.head(15))"
   ]
  },
  {
   "cell_type": "code",
   "execution_count": 51,
   "metadata": {},
   "outputs": [
    {
     "name": "stdout",
     "output_type": "stream",
     "text": [
      "     batsman  runs  dismissal\n",
      "458  V Kohli   139          3\n"
     ]
    }
   ],
   "source": [
    "req_columns = ['batsman','runs','dismissal_kind']\n",
    "batter = batsmen[req_columns]\n",
    "batter['dismissal'] = np.where(batsmen['dismissal_kind'] == 'not_out' , 0, 1)\n",
    "batter = batter.groupby('batsman').tail(4)\n",
    "batter.drop('dismissal_kind',axis=1,inplace=True)\n",
    "batter = batter.groupby(['batsman']).agg({'runs' : 'sum', 'dismissal' : 'sum'}).reset_index()\n",
    "print(batter[batter['batsman'] == 'V Kohli'])"
   ]
  },
  {
   "cell_type": "code",
   "execution_count": 52,
   "metadata": {},
   "outputs": [
    {
     "name": "stdout",
     "output_type": "stream",
     "text": [
      "          batsman  no_of_innings\n",
      "0  A Ashish Reddy             23\n",
      "1      A Chandila              2\n",
      "2        A Chopra              6\n",
      "3     A Choudhary              3\n",
      "4     A Dananjaya              1\n"
     ]
    }
   ],
   "source": [
    "#Number of innings\n",
    "no_of_innings=batsmen.groupby(['inning','batsman']).size().reset_index()\n",
    "no_of_innings=no_of_innings.groupby(['batsman']).sum().reset_index()\n",
    "no_of_innings=no_of_innings.drop(['inning'],1)\n",
    "no_of_innings.rename(columns={0:'no_of_innings'},inplace=True)\n",
    "\n",
    "print(no_of_innings.head(5))"
   ]
  },
  {
   "cell_type": "code",
   "execution_count": 53,
   "metadata": {},
   "outputs": [
    {
     "name": "stdout",
     "output_type": "stream",
     "text": [
      "           batsman  no_of_not_outs\n",
      "2   A Ashish Reddy               8\n",
      "4       A Chandila               2\n",
      "10     A Choudhary               2\n",
      "11     A Dananjaya               1\n",
      "14      A Flintoff               1\n"
     ]
    }
   ],
   "source": [
    "#dismissal_types\n",
    "dismissal_group=batsmen[['dismissal_kind','batsman']]\n",
    "dismissal_group=dismissal_group.groupby(['batsman','dismissal_kind']).size().reset_index()\n",
    "#print(dismissal_group)\n",
    "#dismissal_group.rename(columns={'0':'No_of_times'},inplace=True)\n",
    "not_outs=dismissal_group[dismissal_group['dismissal_kind']=='not_out']\n",
    "not_outs=not_outs.drop(['dismissal_kind'],1)\n",
    "not_outs.rename(columns={0:'no_of_not_outs'},inplace=True)\n",
    "print (not_outs.head(5))"
   ]
  },
  {
   "cell_type": "code",
   "execution_count": 54,
   "metadata": {},
   "outputs": [
    {
     "name": "stdout",
     "output_type": "stream",
     "text": [
      "           player  batting_average\n",
      "0  A Ashish Reddy        18.666667\n",
      "1      A Chandila         0.000000\n",
      "2     A Choudhary        25.000000\n",
      "3     A Dananjaya         0.000000\n"
     ]
    }
   ],
   "source": [
    "total_runs=batsmen.groupby(['batsman'] ).sum().reset_index()\n",
    "total_runs=total_runs.drop(['inning','match_id'],1)\n",
    "batsmen_overall=no_of_innings.merge(total_runs,on='batsman')\n",
    "batsmen_overall=batsmen_overall.merge(not_outs,on='batsman')\n",
    "batsmen_overall['batting_average']=batsmen_overall['runs']/(batsmen_overall['no_of_innings']-batsmen_overall['no_of_not_outs'])\n",
    "batsmen_overall=batsmen_overall.replace([np.inf, -np.inf], 0)\n",
    "batsmen_overall.rename(columns={'batsman':'player'},inplace=True)\n",
    "averages = batsmen_overall[['player','batting_average']]\n",
    "print(averages.head(4))\n",
    "#print(batsmen_overall.head(5))\n",
    "#kohli = batsmen_overall[batsmen_overall['player'] == 'V Kohli']\n",
    "#print(kohli)"
   ]
  },
  {
   "cell_type": "code",
   "execution_count": 55,
   "metadata": {},
   "outputs": [],
   "source": [
    "## we have to find statistics for bowlers"
   ]
  },
  {
   "cell_type": "code",
   "execution_count": null,
   "metadata": {},
   "outputs": [],
   "source": []
  }
 ],
 "metadata": {
  "kernelspec": {
   "display_name": "Python 3",
   "language": "python",
   "name": "python3"
  },
  "language_info": {
   "codemirror_mode": {
    "name": "ipython",
    "version": 3
   },
   "file_extension": ".py",
   "mimetype": "text/x-python",
   "name": "python",
   "nbconvert_exporter": "python",
   "pygments_lexer": "ipython3",
   "version": "3.6.1"
  }
 },
 "nbformat": 4,
 "nbformat_minor": 2
}
