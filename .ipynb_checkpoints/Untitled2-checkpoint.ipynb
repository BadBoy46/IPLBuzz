{
 "cells": [
  {
   "cell_type": "code",
   "execution_count": 89,
   "metadata": {},
   "outputs": [],
   "source": [
    "import numpy as np # linear algebra\n",
    "import pandas as pd # data processing, CSV file I/O (e.g. pd.read_csv)\n",
    "import matplotlib.pyplot as plt\n",
    "from matplotlib import style\n",
    "style.use('fivethirtyeight')"
   ]
  },
  {
   "cell_type": "code",
   "execution_count": 90,
   "metadata": {},
   "outputs": [],
   "source": [
    "matches=pd.read_csv('dataset/matches.csv')\n",
    "deliveries=pd.read_csv('dataset/deliveries.csv')"
   ]
  },
  {
   "cell_type": "code",
   "execution_count": 91,
   "metadata": {},
   "outputs": [
    {
     "name": "stdout",
     "output_type": "stream",
     "text": [
      "   match_id  inning                 batting_team        batsman  batsman_runs\n",
      "0         1       1          Sunrisers Hyderabad    BCJ Cutting            16\n",
      "1         1       1          Sunrisers Hyderabad      DA Warner            14\n",
      "2         1       1          Sunrisers Hyderabad       DJ Hooda            16\n",
      "3         1       1          Sunrisers Hyderabad   MC Henriques            52\n",
      "4         1       1          Sunrisers Hyderabad       S Dhawan            40\n",
      "5         1       1          Sunrisers Hyderabad   Yuvraj Singh            62\n",
      "6         1       2  Royal Challengers Bangalore    A Choudhary             6\n",
      "7         1       2  Royal Challengers Bangalore       CH Gayle            32\n",
      "8         1       2  Royal Challengers Bangalore      KM Jadhav            31\n",
      "9         1       2  Royal Challengers Bangalore  Mandeep Singh            24\n"
     ]
    }
   ],
   "source": [
    "batsmen = deliveries.groupby(['match_id','inning','batting_team','batsman'])\n",
    "batsman = batsmen['batsman_runs'].sum().reset_index()\n",
    "print(batsman.head(10))"
   ]
  },
  {
   "cell_type": "code",
   "execution_count": 92,
   "metadata": {},
   "outputs": [
    {
     "name": "stdout",
     "output_type": "stream",
     "text": [
      "    match_id  inning                 batting_team        batsman  runs  \\\n",
      "0          1       1          Sunrisers Hyderabad    BCJ Cutting    16   \n",
      "1          1       1          Sunrisers Hyderabad      DA Warner    14   \n",
      "2          1       1          Sunrisers Hyderabad       DJ Hooda    16   \n",
      "3          1       1          Sunrisers Hyderabad   MC Henriques    52   \n",
      "4          1       1          Sunrisers Hyderabad       S Dhawan    40   \n",
      "5          1       1          Sunrisers Hyderabad   Yuvraj Singh    62   \n",
      "6          1       2  Royal Challengers Bangalore    A Choudhary     6   \n",
      "7          1       2  Royal Challengers Bangalore       CH Gayle    32   \n",
      "8          1       2  Royal Challengers Bangalore      KM Jadhav    31   \n",
      "9          1       2  Royal Challengers Bangalore  Mandeep Singh    24   \n",
      "10         1       2  Royal Challengers Bangalore      S Aravind     0   \n",
      "11         1       2  Royal Challengers Bangalore      SR Watson    22   \n",
      "12         1       2  Royal Challengers Bangalore      STR Binny    11   \n",
      "13         1       2  Royal Challengers Bangalore    Sachin Baby     1   \n",
      "14         1       2  Royal Challengers Bangalore        TM Head    30   \n",
      "\n",
      "          bowler dismissal_kind        fielder  \n",
      "0            NaN        not_out              -  \n",
      "1    A Choudhary         caught  Mandeep Singh  \n",
      "2            NaN        not_out              -  \n",
      "3      YS Chahal         caught    Sachin Baby  \n",
      "4      STR Binny         caught    Sachin Baby  \n",
      "5       TS Mills         bowled              -  \n",
      "6            NaN        not_out              -  \n",
      "7       DJ Hooda         caught      DA Warner  \n",
      "8   MC Henriques        run out    BCJ Cutting  \n",
      "9    Rashid Khan         bowled              -  \n",
      "10       A Nehra         bowled              -  \n",
      "11       A Nehra         caught   MC Henriques  \n",
      "12       B Kumar         caught   Yuvraj Singh  \n",
      "13  Bipul Sharma         caught   MC Henriques  \n",
      "14   Rashid Khan         caught   Yuvraj Singh  \n"
     ]
    }
   ],
   "source": [
    "dismissals = deliveries[pd.notnull(deliveries['player_dismissed'])]\n",
    "dismissals = dismissals[['match_id','inning','player_dismissed','bowler','dismissal_kind','fielder']]\n",
    "dismissals.rename(columns={'player_dismissed':'batsman'},inplace=True)\n",
    "batsmen=batsman.merge(dismissals,left_on=['match_id','inning','batsman'],right_on=['match_id','inning','batsman'], how= \"left\")\n",
    "\n",
    "batsmen['dismissal_kind']=batsmen.dismissal_kind.fillna('not_out')\n",
    "\n",
    "batsmen['fielder']=batsmen.fielder.fillna('-')\n",
    "batsmen.rename(columns={'batsman_runs':'runs'},inplace=True)\n",
    "print (batsmen.head(15))"
   ]
  },
  {
   "cell_type": "code",
   "execution_count": 102,
   "metadata": {},
   "outputs": [
    {
     "name": "stdout",
     "output_type": "stream",
     "text": [
      "                  batsman  no_of_innings\n",
      "0          A Ashish Reddy             23\n",
      "1              A Chandila              2\n",
      "2                A Chopra              6\n",
      "3             A Choudhary              3\n",
      "4             A Dananjaya              1\n",
      "5              A Flintoff              3\n",
      "6                 A Hales              6\n",
      "7                A Kumble             15\n",
      "8                A Mishra             50\n",
      "9                A Mithun              6\n",
      "10               A Mukund              2\n",
      "11                A Nehra             17\n",
      "12                A Singh              5\n",
      "13              A Symonds             36\n",
      "14               A Uniyal              2\n",
      "15                A Zampa              2\n",
      "16            AA Bilakhia              7\n",
      "17              AA Chavan              3\n",
      "18        AA Jhunjhunwala             15\n",
      "19              AA Noffke              1\n",
      "20             AB Agarkar             18\n",
      "21              AB Barath              3\n",
      "22               AB Dinda             16\n",
      "23            AB McDonald              9\n",
      "24         AB de Villiers            130\n",
      "25            AC Blizzard              7\n",
      "26           AC Gilchrist             80\n",
      "27              AC Thomas              4\n",
      "28               AC Voges              7\n",
      "29         AD Mascarenhas             11\n",
      "..                    ...            ...\n",
      "458               V Kohli            156\n",
      "459        V Pratap Singh              1\n",
      "460              V Sehwag            104\n",
      "461             V Shankar             13\n",
      "462                VH Zol              2\n",
      "463              VR Aaron              9\n",
      "464             VRV Singh              2\n",
      "465              VS Malik              2\n",
      "466           VS Yeligati              1\n",
      "467            VVS Laxman             20\n",
      "468             VY Mahesh              5\n",
      "469          Vishnu Vinod              3\n",
      "470              W Jaffer              8\n",
      "471               WA Mota              8\n",
      "472            WD Parnell             12\n",
      "473               WP Saha             88\n",
      "474            WPUJC Vaas             11\n",
      "475     Washington Sundar             10\n",
      "476  X Thalaivan Sargunam              1\n",
      "477      Y Gnaneswara Rao              1\n",
      "478               Y Nagar             20\n",
      "479       Y Venugopal Rao             52\n",
      "480            YA Abdulla              1\n",
      "481             YK Pathan            147\n",
      "482             YS Chahal              9\n",
      "483           YV Takawale             10\n",
      "484         Yashpal Singh              4\n",
      "485           Younis Khan              1\n",
      "486          Yuvraj Singh            123\n",
      "487                Z Khan             27\n",
      "\n",
      "[488 rows x 2 columns]\n"
     ]
    }
   ],
   "source": [
    "#Number of innings\n",
    "no_of_innings=batsmen.groupby(['inning','batsman']).size().reset_index()\n",
    "no_of_innings=no_of_innings.groupby(['batsman']).sum().reset_index()\n",
    "no_of_innings=no_of_innings.drop(['inning'],1)\n",
    "no_of_innings.rename(columns={0:'no_of_innings'},inplace=True)\n",
    "\n",
    "print(no_of_innings)"
   ]
  },
  {
   "cell_type": "code",
   "execution_count": 105,
   "metadata": {},
   "outputs": [
    {
     "name": "stdout",
     "output_type": "stream",
     "text": [
      "           batsman  no_of_not_outs\n",
      "2   A Ashish Reddy               8\n",
      "4       A Chandila               2\n",
      "10     A Choudhary               2\n",
      "11     A Dananjaya               1\n",
      "14      A Flintoff               1\n"
     ]
    }
   ],
   "source": [
    "#dismissal_types\n",
    "dismissal_group=batsmen[['dismissal_kind','batsman']]\n",
    "dismissal_group=dismissal_group.groupby(['batsman','dismissal_kind']).size().reset_index()\n",
    "#print(dismissal_group)\n",
    "#dismissal_group.rename(columns={'0':'No_of_times'},inplace=True)\n",
    "not_outs=dismissal_group[dismissal_group['dismissal_kind']=='not_out']\n",
    "not_outs=not_outs.drop(['dismissal_kind'],1)\n",
    "not_outs.rename(columns={0:'no_of_not_outs'},inplace=True)\n",
    "print (not_outs.head(5))"
   ]
  },
  {
   "cell_type": "code",
   "execution_count": 95,
   "metadata": {},
   "outputs": [
    {
     "name": "stdout",
     "output_type": "stream",
     "text": [
      "           player  batting_average\n",
      "0  A Ashish Reddy        18.666667\n",
      "1      A Chandila         0.000000\n",
      "2     A Choudhary        25.000000\n",
      "3     A Dananjaya         0.000000\n"
     ]
    }
   ],
   "source": [
    "total_runs=batsmen.groupby(['batsman'] ).sum().reset_index()\n",
    "total_runs=total_runs.drop(['inning','match_id'],1)\n",
    "batsmen_overall=no_of_innings.merge(total_runs,on='batsman')\n",
    "batsmen_overall=batsmen_overall.merge(not_outs,on='batsman')\n",
    "batsmen_overall['batting_average']=batsmen_overall['runs']/(batsmen_overall['no_of_innings']-batsmen_overall['no_of_not_outs'])\n",
    "batsmen_overall=batsmen_overall.replace([np.inf, -np.inf], 0)\n",
    "batsmen_overall.rename(columns={'batsman':'player'},inplace=True)\n",
    "averages = batsmen_overall[['player','batting_average']]\n",
    "print(averages.head(4))\n",
    "#print(batsmen_overall.head(5))\n",
    "#kohli = batsmen_overall[batsmen_overall['player'] == 'V Kohli']\n",
    "#print(kohli)"
   ]
  },
  {
   "cell_type": "code",
   "execution_count": null,
   "metadata": {},
   "outputs": [],
   "source": [
    "## we have to find statistics for bowlers"
   ]
  }
 ],
 "metadata": {
  "kernelspec": {
   "display_name": "Python 3",
   "language": "python",
   "name": "python3"
  },
  "language_info": {
   "codemirror_mode": {
    "name": "ipython",
    "version": 3
   },
   "file_extension": ".py",
   "mimetype": "text/x-python",
   "name": "python",
   "nbconvert_exporter": "python",
   "pygments_lexer": "ipython3",
   "version": "3.6.1"
  }
 },
 "nbformat": 4,
 "nbformat_minor": 2
}
