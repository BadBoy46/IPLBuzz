{
 "cells": [
  {
   "cell_type": "code",
   "execution_count": 23,
   "metadata": {},
   "outputs": [],
   "source": [
    "import numpy as np # for Linear algebra\n",
    "import pandas as pd # for data manipulation/CSV I/O\n",
    "pd.options.mode.chained_assignment = None    # To avoid the SettingWithCopyWarning"
   ]
  },
  {
   "cell_type": "code",
   "execution_count": 28,
   "metadata": {},
   "outputs": [],
   "source": [
    "deliveries=pd.read_csv(\"dataset/deliveries.csv\")\n",
    "matches =pd.read_csv(\"dataset/matches.csv\")\n",
    "bowlers = pd.read_csv(\"dataset/bowlers.csv\")"
   ]
  },
  {
   "cell_type": "code",
   "execution_count": 29,
   "metadata": {},
   "outputs": [
    {
     "data": {
      "text/html": [
       "<div>\n",
       "<style scoped>\n",
       "    .dataframe tbody tr th:only-of-type {\n",
       "        vertical-align: middle;\n",
       "    }\n",
       "\n",
       "    .dataframe tbody tr th {\n",
       "        vertical-align: top;\n",
       "    }\n",
       "\n",
       "    .dataframe thead th {\n",
       "        text-align: right;\n",
       "    }\n",
       "</style>\n",
       "<table border=\"1\" class=\"dataframe\">\n",
       "  <thead>\n",
       "    <tr style=\"text-align: right;\">\n",
       "      <th></th>\n",
       "      <th>Bowler</th>\n",
       "      <th>Matches</th>\n",
       "      <th>Wickets</th>\n",
       "      <th>Runs</th>\n",
       "      <th>Overs</th>\n",
       "      <th>Average</th>\n",
       "      <th>Economy</th>\n",
       "      <th>SR</th>\n",
       "      <th>BBI</th>\n",
       "      <th>3WI</th>\n",
       "      <th>Fours</th>\n",
       "      <th>Sixes</th>\n",
       "    </tr>\n",
       "  </thead>\n",
       "  <tbody>\n",
       "    <tr>\n",
       "      <th>0</th>\n",
       "      <td>A Ashish Reddy</td>\n",
       "      <td>20</td>\n",
       "      <td>18</td>\n",
       "      <td>400</td>\n",
       "      <td>45</td>\n",
       "      <td>22.22</td>\n",
       "      <td>8.89</td>\n",
       "      <td>15.00</td>\n",
       "      <td>3/25</td>\n",
       "      <td>1</td>\n",
       "      <td>26</td>\n",
       "      <td>20</td>\n",
       "    </tr>\n",
       "    <tr>\n",
       "      <th>1</th>\n",
       "      <td>A Chandila</td>\n",
       "      <td>12</td>\n",
       "      <td>11</td>\n",
       "      <td>245</td>\n",
       "      <td>39</td>\n",
       "      <td>22.27</td>\n",
       "      <td>6.28</td>\n",
       "      <td>21.27</td>\n",
       "      <td>4/13</td>\n",
       "      <td>1</td>\n",
       "      <td>17</td>\n",
       "      <td>10</td>\n",
       "    </tr>\n",
       "    <tr>\n",
       "      <th>2</th>\n",
       "      <td>A Choudhary</td>\n",
       "      <td>5</td>\n",
       "      <td>5</td>\n",
       "      <td>144</td>\n",
       "      <td>17</td>\n",
       "      <td>28.80</td>\n",
       "      <td>8.47</td>\n",
       "      <td>20.40</td>\n",
       "      <td>2/17</td>\n",
       "      <td>0</td>\n",
       "      <td>13</td>\n",
       "      <td>6</td>\n",
       "    </tr>\n",
       "    <tr>\n",
       "      <th>3</th>\n",
       "      <td>A Dananjaya</td>\n",
       "      <td>1</td>\n",
       "      <td>0</td>\n",
       "      <td>48</td>\n",
       "      <td>4</td>\n",
       "      <td>48.00</td>\n",
       "      <td>12.00</td>\n",
       "      <td>0.00</td>\n",
       "      <td>0/48</td>\n",
       "      <td>0</td>\n",
       "      <td>2</td>\n",
       "      <td>4</td>\n",
       "    </tr>\n",
       "    <tr>\n",
       "      <th>4</th>\n",
       "      <td>A Flintoff</td>\n",
       "      <td>3</td>\n",
       "      <td>2</td>\n",
       "      <td>106</td>\n",
       "      <td>11</td>\n",
       "      <td>53.00</td>\n",
       "      <td>9.64</td>\n",
       "      <td>33.00</td>\n",
       "      <td>1/11</td>\n",
       "      <td>0</td>\n",
       "      <td>7</td>\n",
       "      <td>7</td>\n",
       "    </tr>\n",
       "  </tbody>\n",
       "</table>\n",
       "</div>"
      ],
      "text/plain": [
       "           Bowler  Matches  Wickets  Runs  Overs  Average  Economy     SR  \\\n",
       "0  A Ashish Reddy       20       18   400     45    22.22     8.89  15.00   \n",
       "1      A Chandila       12       11   245     39    22.27     6.28  21.27   \n",
       "2     A Choudhary        5        5   144     17    28.80     8.47  20.40   \n",
       "3     A Dananjaya        1        0    48      4    48.00    12.00   0.00   \n",
       "4      A Flintoff        3        2   106     11    53.00     9.64  33.00   \n",
       "\n",
       "    BBI  3WI  Fours  Sixes  \n",
       "0  3/25    1     26     20  \n",
       "1  4/13    1     17     10  \n",
       "2  2/17    0     13      6  \n",
       "3  0/48    0      2      4  \n",
       "4  1/11    0      7      7  "
      ]
     },
     "execution_count": 29,
     "metadata": {},
     "output_type": "execute_result"
    }
   ],
   "source": [
    "bowlers.head()"
   ]
  },
  {
   "cell_type": "code",
   "execution_count": 30,
   "metadata": {},
   "outputs": [
    {
     "name": "stdout",
     "output_type": "stream",
     "text": [
      "           Bowler  Matches  Wickets  Average  Economy     SR     Big  \\\n",
      "0  A Ashish Reddy       20       18    22.22     8.89  15.00  0.0500   \n",
      "1      A Chandila       12       11    22.27     6.28  21.27  0.0833   \n",
      "2     A Choudhary        5        5    28.80     8.47  20.40  0.0000   \n",
      "3     A Dananjaya        1        0    48.00    12.00   0.00  0.0000   \n",
      "4      A Flintoff        3        2    53.00     9.64  33.00  0.0000   \n",
      "\n",
      "   Performance  \n",
      "0       0.0526  \n",
      "1       0.0909  \n",
      "2       0.0000  \n",
      "3       0.0000  \n",
      "4       0.0000  \n"
     ]
    }
   ],
   "source": [
    "model_bowlers = bowlers\n",
    "model_bowlers['Big'] = np.around(model_bowlers['3WI'] / model_bowlers['Matches'],4)\n",
    "model_bowlers['Performance'] = np.around(model_bowlers['3WI'] / (model_bowlers['Matches'] - model_bowlers['3WI']),4)\n",
    "\n",
    "model_bowlers.drop(['Runs','Overs','BBI','3WI','Fours','Sixes'],axis=1,inplace = True)\n",
    "print(model_bowlers.head())"
   ]
  },
  {
   "cell_type": "code",
   "execution_count": 31,
   "metadata": {},
   "outputs": [],
   "source": [
    "export_csv = model_bowlers.to_csv ('dataset/model_bowlers.csv', index = None, header=True)"
   ]
  },
  {
   "cell_type": "code",
   "execution_count": null,
   "metadata": {},
   "outputs": [],
   "source": []
  }
 ],
 "metadata": {
  "kernelspec": {
   "display_name": "Python 3",
   "language": "python",
   "name": "python3"
  },
  "language_info": {
   "codemirror_mode": {
    "name": "ipython",
    "version": 3
   },
   "file_extension": ".py",
   "mimetype": "text/x-python",
   "name": "python",
   "nbconvert_exporter": "python",
   "pygments_lexer": "ipython3",
   "version": "3.6.1"
  }
 },
 "nbformat": 4,
 "nbformat_minor": 2
}
